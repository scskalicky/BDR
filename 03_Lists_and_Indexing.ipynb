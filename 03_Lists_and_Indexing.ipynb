{
  "nbformat": 4,
  "nbformat_minor": 0,
  "metadata": {
    "colab": {
      "private_outputs": true,
      "provenance": [],
      "authorship_tag": "ABX9TyPvr2gfTVc4SwraOUWLAssQ",
      "include_colab_link": true
    },
    "kernelspec": {
      "name": "python3",
      "display_name": "Python 3"
    },
    "language_info": {
      "name": "python"
    }
  },
  "cells": [
    {
      "cell_type": "markdown",
      "metadata": {
        "id": "view-in-github",
        "colab_type": "text"
      },
      "source": [
        "<a href=\"https://colab.research.google.com/github/scskalicky/BDR/blob/main/03_Lists_and_Indexing.ipynb\" target=\"_parent\"><img src=\"https://colab.research.google.com/assets/colab-badge.svg\" alt=\"Open In Colab\"/></a>"
      ]
    },
    {
      "cell_type": "markdown",
      "source": [
        "# Python `lists`\n",
        "\n",
        "Lists are another value type in Python. Lists can be thought of as a container for values, and more specifically as a giant bucket which almost anything can be tossed into. This means a list can contain a number of different values *and* values of different types, neat!\n",
        "\n",
        "The basic structure of a list is that a list is surrounded by square brackets `[]`, and values inside of a list are separated by commas.\n",
        "\n",
        "Run through the code cells to see lists with different combinations of values."
      ],
      "metadata": {
        "id": "U6W7US11X54z"
      }
    },
    {
      "cell_type": "code",
      "execution_count": null,
      "metadata": {
        "id": "5WiFLsmwXBPC"
      },
      "outputs": [],
      "source": [
        "# a list of strings\n",
        "names = ['Jerry', 'George', 'Elaine', 'Kramer']\n",
        "\n",
        "# call the value of the variable\n",
        "names"
      ]
    },
    {
      "cell_type": "code",
      "source": [
        "# a list of numbers (integers)\n",
        "dates = [1982, 1986, 2008, 2012]\n",
        "dates"
      ],
      "metadata": {
        "id": "hmSzgZWFZ2rn"
      },
      "execution_count": null,
      "outputs": []
    },
    {
      "cell_type": "code",
      "source": [
        "# a list containing strings and an integer\n",
        "mixed_values = ['Jerry', '5A', 5]\n",
        "mixed_values"
      ],
      "metadata": {
        "id": "EHZrcnQ_Z9E1"
      },
      "execution_count": null,
      "outputs": []
    },
    {
      "cell_type": "code",
      "source": [
        "# a list can even contain other lists,\n",
        "listception = [['Jerry', 'Elaine'], ['George', 'Kramer']]\n",
        "listception"
      ],
      "metadata": {
        "id": "UwTHHdSGaJwG"
      },
      "execution_count": null,
      "outputs": []
    },
    {
      "cell_type": "markdown",
      "source": [
        "# List functions\n",
        "\n",
        "Just like strings, lists have their own built in functions (or methods). And, we can also use `len()` to count the length of a list.\n",
        "\n",
        "> - `len(list)` returns the length of the list (the number of values in a list)\n",
        "> - `list.sort()` sorts the list object\n",
        "> - `list.append()`adds a value to the end of a list\n",
        "\n",
        "*You can find a more complete list of list methods [here](https://www.geeksforgeeks.org/list-methods-in-python/)*"
      ],
      "metadata": {
        "id": "z5a_qXBhatzv"
      }
    },
    {
      "cell_type": "code",
      "source": [
        "# define a list\n",
        "quote = ['colorless', 'green', 'ideas', 'sleep', 'furiously']\n",
        "\n",
        "print(quote)"
      ],
      "metadata": {
        "id": "D2HH3hxTcMWN"
      },
      "execution_count": null,
      "outputs": []
    },
    {
      "cell_type": "code",
      "source": [
        "# how many values in the list?\n",
        "len(quote)"
      ],
      "metadata": {
        "id": "N0a53xDDchvE"
      },
      "execution_count": null,
      "outputs": []
    },
    {
      "cell_type": "code",
      "source": [
        "# sort the list alphabetically\n",
        "# (note that this function will do more than return output - it will directly modify the list)\n",
        "quote.sort()\n",
        "quote"
      ],
      "metadata": {
        "id": "zErJY99dckY4"
      },
      "execution_count": null,
      "outputs": []
    },
    {
      "cell_type": "code",
      "source": [
        "# add something to the end of the list:\n",
        "quote.append('Chomsky')\n",
        "quote"
      ],
      "metadata": {
        "id": "0tl7IbbsdBzl"
      },
      "execution_count": null,
      "outputs": []
    },
    {
      "cell_type": "markdown",
      "source": [
        "## **Your Turn**\n",
        "\n",
        "Create a list or two containing different values and of different types. Make sure to use the square brackets and to separate values in the list using commas.\n",
        "\n",
        "Then, play with `len()` and some other list functions in order to get a good sense of how to make them.\n",
        "\n"
      ],
      "metadata": {
        "id": "V-6YSxwZavx5"
      }
    },
    {
      "cell_type": "code",
      "source": [
        "# make some lists here!\n"
      ],
      "metadata": {
        "id": "qXQubXfGcWfE"
      },
      "execution_count": null,
      "outputs": []
    },
    {
      "cell_type": "markdown",
      "source": [
        "# Indexing strings and lists\n",
        "\n",
        "Strings and Lists are both sequences of values and are stored in a particular order. This allows us to access specific values at specific locations in these sequences. To do so, we use what is called **slicing** or **indexing**.\n",
        "\n"
      ],
      "metadata": {
        "id": "uJ98iIIBfwXl"
      }
    },
    {
      "cell_type": "markdown",
      "source": [
        "## Indexing string characters\n",
        "The syntax for doing so uses square brackets, the same as are used to declare lists, so be careful! The difference is that index brackets are placed immediately after the value (or variable name mapped to a value), like this:\n",
        "\n",
        "> `value[]`\n",
        "\n",
        "In addition to placing the square brackets, you also need to indicate the numerical index you wish to inspect.\n",
        "\n",
        "In the example below, I ask for portions of a string sequence located at index 1:"
      ],
      "metadata": {
        "id": "OhWTcxMtktxP"
      }
    },
    {
      "cell_type": "code",
      "source": [
        "# index a string at location/index 1\n",
        "'Melodrama'[1]"
      ],
      "metadata": {
        "id": "z4M026yYiRsK"
      },
      "execution_count": null,
      "outputs": []
    },
    {
      "cell_type": "markdown",
      "source": [
        "Why did we get \"e\" instead of \"M\"? The reason is that in Python, the starting point of a sequence is 0, not 1."
      ],
      "metadata": {
        "id": "L6JykEk0i1W7"
      }
    },
    {
      "cell_type": "code",
      "source": [
        "'Melodrama'[0]"
      ],
      "metadata": {
        "id": "hjU1j5vDizc4"
      },
      "execution_count": null,
      "outputs": []
    },
    {
      "cell_type": "markdown",
      "source": [
        "This means that the indexes sit before/after each character in a string, so that instead of being located at any one index, characters are located *between* indexes:\n",
        "\n",
        "|| | | | | | | | | | | | | | | | | | | |\n",
        "---|---|---|---|---|---|---|---|---|---|---|---|---|---|---|---|---|---|---|---|\n",
        "character||M||e||l||o||d||r||a||m||a\n",
        "index     |0||1||2||3||4||5||6||7||8||9|\n",
        "\n",
        "\n",
        "When we slice a string using a single index, we are technically asking for the value which comes after that index. Also see section 8.4 [here](https://greenteapress.com/thinkpython2/html/thinkpython2009.html#sec95)\n",
        "\n"
      ],
      "metadata": {
        "id": "LjcO2_iwjH-n"
      }
    },
    {
      "cell_type": "markdown",
      "source": [
        "\n",
        "## Indexing a range of string characters\n",
        "\n",
        "To index a range of values from within a sequence, we can include more information inside the square brackets. Specifically, we can specify a `start` and a `stop`, which are separated by a colon:\n",
        "\n",
        "> `value[start:stop]`\n",
        "\n",
        "Just as if we were asking for a single index, asking for range will return everything *after* the start index and *before* the stop index. This means you will not get the value which comes after the stop index! Compare the table above with the output below:"
      ],
      "metadata": {
        "id": "DY5irWSCk1Qb"
      }
    },
    {
      "cell_type": "code",
      "source": [
        "# use a start:stop\n",
        "'Melodrama'[1:6]"
      ],
      "metadata": {
        "id": "COIMIJAwlv13"
      },
      "execution_count": null,
      "outputs": []
    },
    {
      "cell_type": "markdown",
      "source": [
        "You can leave the start or stop blank - doing so defaults to the start or end, depending on which value you leave blank:\n"
      ],
      "metadata": {
        "id": "z9XAy-VL21y9"
      }
    },
    {
      "cell_type": "code",
      "source": [
        "# The first half of melodrama\n",
        "'Melodrama'[:4]"
      ],
      "metadata": {
        "id": "ncCdErQg20yf"
      },
      "execution_count": null,
      "outputs": []
    },
    {
      "cell_type": "code",
      "source": [
        "# the second half\n",
        "'Melodrama'[4:]"
      ],
      "metadata": {
        "id": "yWKYGrRQ3E5G"
      },
      "execution_count": null,
      "outputs": []
    },
    {
      "cell_type": "markdown",
      "source": [
        "You can also use negatives to start from the *end* of a sequence - what is -1 indexing if it provides us with the final character?"
      ],
      "metadata": {
        "id": "WamSThQy31pa"
      }
    },
    {
      "cell_type": "code",
      "source": [
        "# index the last item\n",
        "'Melodrama'[-1]"
      ],
      "metadata": {
        "id": "yVlguinD3xvA"
      },
      "execution_count": null,
      "outputs": []
    },
    {
      "cell_type": "markdown",
      "source": [
        "Why is this output the same as the previous example?"
      ],
      "metadata": {
        "id": "uOXlMYAX46I1"
      }
    },
    {
      "cell_type": "code",
      "source": [
        "\"Melodrama\"[-1:]"
      ],
      "metadata": {
        "id": "239wJ4BG42iC"
      },
      "execution_count": null,
      "outputs": []
    },
    {
      "cell_type": "markdown",
      "source": [
        "Perhaps starting at -2 makes this more clear? The index goes from -2 to the end of the string"
      ],
      "metadata": {
        "id": "JLZ2Yf8f2-yq"
      }
    },
    {
      "cell_type": "code",
      "source": [
        "\"Melodrama\"[-2:]"
      ],
      "metadata": {
        "id": "m53ZZCOA2xs4"
      },
      "execution_count": null,
      "outputs": []
    },
    {
      "cell_type": "markdown",
      "source": [
        "Why don't we get the full word here? What is the start, and what is the stop?"
      ],
      "metadata": {
        "id": "pSo9_MnT3DI0"
      }
    },
    {
      "cell_type": "code",
      "source": [
        "'Melodrama'[:-1]"
      ],
      "metadata": {
        "id": "NuiW8oFH4UWw"
      },
      "execution_count": null,
      "outputs": []
    },
    {
      "cell_type": "markdown",
      "source": [
        "If you try to index a string at a location which does not exist, you will receive an \"out of range\" error:"
      ],
      "metadata": {
        "id": "HUywr7iDmBQK"
      }
    },
    {
      "cell_type": "code",
      "source": [
        "'Melodrama'[42]"
      ],
      "metadata": {
        "id": "wdsO3YKp2vSC"
      },
      "execution_count": null,
      "outputs": []
    },
    {
      "cell_type": "markdown",
      "source": [
        "## Indexing single values from lists\n",
        "\n",
        "Once you understand how to slice/index strings, many of the same general principles apply to lists."
      ],
      "metadata": {
        "id": "-kWMhV-14_KA"
      }
    },
    {
      "cell_type": "code",
      "source": [
        "# create a list\n",
        "birbs = ['kiwi', 'kākā', 'tūī', 'kea', 'pīwauwau']"
      ],
      "metadata": {
        "id": "X0hLiYgU5NIN"
      },
      "execution_count": null,
      "outputs": []
    },
    {
      "cell_type": "code",
      "source": [
        "# find the first bird\n",
        "birbs[0]"
      ],
      "metadata": {
        "id": "LHqwd3tm5-Ke"
      },
      "execution_count": null,
      "outputs": []
    },
    {
      "cell_type": "code",
      "source": [
        "# who won bird of the year in 2022?\n",
        "birbs[-1]"
      ],
      "metadata": {
        "id": "fnBsG4Aj6FTA"
      },
      "execution_count": null,
      "outputs": []
    },
    {
      "cell_type": "markdown",
      "source": [
        "## Indexing ranges of values from lists\n",
        "\n",
        "The same principles apply to lists for ranged slices as well\n"
      ],
      "metadata": {
        "id": "TBmpNkZIKhSk"
      }
    },
    {
      "cell_type": "code",
      "source": [
        "# give everything up until index 2\n",
        "birbs[:2]"
      ],
      "metadata": {
        "id": "-kMvfFpWKlxq"
      },
      "execution_count": null,
      "outputs": []
    },
    {
      "cell_type": "code",
      "source": [
        "# give the second half of the list\n",
        "birbs[2:6]"
      ],
      "metadata": {
        "id": "R_w791V1KoJB"
      },
      "execution_count": null,
      "outputs": []
    },
    {
      "cell_type": "markdown",
      "source": [
        "# **Your Turn**\n",
        "\n",
        "- create some strings and lists, and practice indexing them"
      ],
      "metadata": {
        "id": "hZyfAVcSs7kE"
      }
    }
  ]
}